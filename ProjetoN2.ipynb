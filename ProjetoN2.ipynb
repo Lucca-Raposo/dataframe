{
  "nbformat": 4,
  "nbformat_minor": 0,
  "metadata": {
    "kernelspec": {
      "display_name": "Python 3",
      "language": "python",
      "name": "python3"
    },
    "language_info": {
      "codemirror_mode": {
        "name": "ipython",
        "version": 3
      },
      "file_extension": ".py",
      "mimetype": "text/x-python",
      "name": "python",
      "nbconvert_exporter": "python",
      "pygments_lexer": "ipython3",
      "version": "3.7.4"
    },
    "colab": {
      "name": "Cópia de IA_Projeto_N2_template.ipynb",
      "provenance": [],
      "collapsed_sections": []
    }
  },
  "cells": [
    {
      "cell_type": "markdown",
      "metadata": {
        "id": "40b90843"
      },
      "source": [
        "<img src=\"http://meusite.mackenzie.br/rogerio/mackenzie_logo/UPM.2_horizontal_vermelho.jpg\"  width=300, align=\"right\">\n",
        "<br>\n",
        "<br>\n",
        "<br>\n",
        "<br>\n",
        "<br>\n",
        "\n",
        "# ***Classificação do Nível de Poluição da Água***\n",
        "---"
      ]
    },
    {
      "cell_type": "markdown",
      "source": [
        "*Siga esse template para entrega do seu projeto. O código deste notebook precisa ser 100% executável.*"
      ],
      "metadata": {
        "id": "Ikv-pBzr9bNu"
      }
    },
    {
      "cell_type": "code",
      "metadata": {
        "id": "rYx9D4GZA5o9",
        "cellView": "form"
      },
      "source": [
        "#@title Identificação do Grupo\n",
        "\n",
        "#@markdown Turma **7N**\n",
        "\n",
        "#@markdown Integrantes do Grupo (*informe \\<TIA\\>,\\<nome\\>*)\n",
        "Aluno1 = '31941745, Lucca Raposo Quieregatto Pinto ' #@param {type:\"string\"} \n",
        "Aluno2 = '31938221, Danilo Lassabia Mathias ' #@param {type:\"string\"}\n",
        "\n"
      ],
      "execution_count": 64,
      "outputs": []
    },
    {
      "cell_type": "markdown",
      "source": [
        "# **Apresentação**"
      ],
      "metadata": {
        "id": "JlCIc2YooBW7"
      }
    },
    {
      "cell_type": "markdown",
      "metadata": {
        "id": "A4-f8AtfKAn2"
      },
      "source": [
        "# Problema\n",
        "\n",
        "\n",
        "\n",
        "O trabalho se trata de um classificador da poluição da água, sendo 0 a mais limpa e 4 a mais poluida. Os dados foram escolhidos pois são úteis e relevantes para fazer a classificação e se relacionam com sustentabilidade.\n",
        "\n"
      ]
    },
    {
      "cell_type": "markdown",
      "source": [
        "# Referencial Teórico\n",
        "\n",
        "https://www.kaggle.com/datasets/ozgurdogan646/water-quality-dataset"
      ],
      "metadata": {
        "id": "7LtXrRFr4hg3"
      }
    },
    {
      "cell_type": "markdown",
      "metadata": {
        "id": "7-pdJIiunIWL"
      },
      "source": [
        "# Metodologia \n",
        "\n",
        "Os dados foram baixados, preparados, normalizados e foi feito hot code para deixar tudo necessário numérico. Além disso, o foram desconsiderados valores fora da curva a fim de obter melhor resultado. As entradas de treino e de teste foram separadas e as saídas foram estipuladas a partir da coluna \"resultMeanValue\", com valores de 0 até 4 para indicar o nível de pouluição, sendo 0 a mais limpa e 4 a mais poluida. Para fazer a classificação em um utilizamos o método Knn e no outro árvore de decisão. \n",
        "\n"
      ]
    },
    {
      "cell_type": "markdown",
      "source": [
        "# Resultados\n",
        "\n",
        "A partir dos dois modelos classificadores aplicados, foi possível determinar o nível de limpeza de amostras de água com base em fatores de definição. Foi obtido um acerto maior quando aplicado ao modelo 1 utilizando uma entrada ótima, porém o modelo 2 se mostra mais estável e com alta porcentagem de acerto."
      ],
      "metadata": {
        "id": "ZGpU-v6CnTaG"
      }
    },
    {
      "cell_type": "markdown",
      "source": [
        "# **Implementação**"
      ],
      "metadata": {
        "id": "caAD2jBEn0KM"
      }
    },
    {
      "cell_type": "markdown",
      "metadata": {
        "id": "xGFJyOm1Kdtd"
      },
      "source": [
        "# Base de Dados \n",
        "\n",
        "Os dados escolhidos foram de qualidade da água para poder avaliar a poluição. Os tratamentos feitos nos dados foram: retirar os dados categóricos desnecessários, fazer o hot code e separar os dados de treinamento e de teste.\n",
        "\n",
        "\n"
      ]
    },
    {
      "cell_type": "code",
      "source": [
        "import pandas as pd\n",
        "df = pd.read_csv(\"/content/waterPollution.csv\")\n",
        "df.head()"
      ],
      "metadata": {
        "id": "V_X2jqpl3UWA",
        "outputId": "ad179edc-ae16-40fd-cd90-98ef7a82468b",
        "colab": {
          "base_uri": "https://localhost:8080/",
          "height": 317
        }
      },
      "execution_count": 65,
      "outputs": [
        {
          "output_type": "execute_result",
          "data": {
            "text/plain": [
              "  parameterWaterBodyCategory observedPropertyDeterminandCode  \\\n",
              "0                         RW                  CAS_14797-65-0   \n",
              "1                         RW                  CAS_14797-65-0   \n",
              "2                         RW                   EEA_3164-07-6   \n",
              "3                         RW                  CAS_14797-55-8   \n",
              "4                         RW                   EEA_3151-01-7   \n",
              "\n",
              "  procedureAnalysedFraction procedureAnalysedMedia    resultUom  \\\n",
              "0                     total                  water    mg{NO2}/L   \n",
              "1                     total                  water    mg{NO2}/L   \n",
              "2                     total                  water  {massRatio}   \n",
              "3                     total                  water    mg{NO3}/L   \n",
              "4                     total                  water       mmol/L   \n",
              "\n",
              "   phenomenonTimeReferenceYear parameterSamplingPeriod  resultMeanValue  \\\n",
              "0                         2009        2009-01--2009-12         0.063310   \n",
              "1                         2009        2009-01--2009-12         0.046733   \n",
              "2                         2009        2009-01--2009-12       132.859000   \n",
              "3                         2009        2009-01--2009-12        11.578376   \n",
              "4                         2009        2009-01--2009-12         0.206800   \n",
              "\n",
              "                waterBodyIdentifier Country  ...  \\\n",
              "0                           FRDR609  France  ...   \n",
              "1                           FRFR238  France  ...   \n",
              "2                           FRFR238  France  ...   \n",
              "3                          FRFR327C  France  ...   \n",
              "4  ES014MSPFES-014-NR-038-000-02-02   Spain  ...   \n",
              "\n",
              "   composition_food_organic_waste_percent  composition_glass_percent  \\\n",
              "0                                    32.0                       10.0   \n",
              "1                                    32.0                       10.0   \n",
              "2                                    32.0                       10.0   \n",
              "3                                    32.0                       10.0   \n",
              "4                                    49.0                        8.0   \n",
              "\n",
              "   composition_metal_percent  composition_other_percent  \\\n",
              "0                        3.0                       26.0   \n",
              "1                        3.0                       26.0   \n",
              "2                        3.0                       26.0   \n",
              "3                        3.0                       26.0   \n",
              "4                        3.0                       14.0   \n",
              "\n",
              "   composition_paper_cardboard_percent  composition_plastic_percent  \\\n",
              "0                                 20.0                          9.0   \n",
              "1                                 20.0                          9.0   \n",
              "2                                 20.0                          9.0   \n",
              "3                                 20.0                          9.0   \n",
              "4                                 15.0                          9.0   \n",
              "\n",
              "   composition_rubber_leather_percent  composition_wood_percent  \\\n",
              "0                                 0.0                       0.0   \n",
              "1                                 0.0                       0.0   \n",
              "2                                 0.0                       0.0   \n",
              "3                                 0.0                       0.0   \n",
              "4                                 0.0                       2.0   \n",
              "\n",
              "   composition_yard_garden_green_waste_percent  \\\n",
              "0                                          0.0   \n",
              "1                                          0.0   \n",
              "2                                          0.0   \n",
              "3                                          0.0   \n",
              "4                                          0.0   \n",
              "\n",
              "   waste_treatment_recycling_percent  \n",
              "0                              22.26  \n",
              "1                              22.26  \n",
              "2                              22.26  \n",
              "3                              22.26  \n",
              "4                              16.84  \n",
              "\n",
              "[5 rows x 29 columns]"
            ],
            "text/html": [
              "\n",
              "  <div id=\"df-e358c5e7-3f94-4636-9997-afd66e729a48\">\n",
              "    <div class=\"colab-df-container\">\n",
              "      <div>\n",
              "<style scoped>\n",
              "    .dataframe tbody tr th:only-of-type {\n",
              "        vertical-align: middle;\n",
              "    }\n",
              "\n",
              "    .dataframe tbody tr th {\n",
              "        vertical-align: top;\n",
              "    }\n",
              "\n",
              "    .dataframe thead th {\n",
              "        text-align: right;\n",
              "    }\n",
              "</style>\n",
              "<table border=\"1\" class=\"dataframe\">\n",
              "  <thead>\n",
              "    <tr style=\"text-align: right;\">\n",
              "      <th></th>\n",
              "      <th>parameterWaterBodyCategory</th>\n",
              "      <th>observedPropertyDeterminandCode</th>\n",
              "      <th>procedureAnalysedFraction</th>\n",
              "      <th>procedureAnalysedMedia</th>\n",
              "      <th>resultUom</th>\n",
              "      <th>phenomenonTimeReferenceYear</th>\n",
              "      <th>parameterSamplingPeriod</th>\n",
              "      <th>resultMeanValue</th>\n",
              "      <th>waterBodyIdentifier</th>\n",
              "      <th>Country</th>\n",
              "      <th>...</th>\n",
              "      <th>composition_food_organic_waste_percent</th>\n",
              "      <th>composition_glass_percent</th>\n",
              "      <th>composition_metal_percent</th>\n",
              "      <th>composition_other_percent</th>\n",
              "      <th>composition_paper_cardboard_percent</th>\n",
              "      <th>composition_plastic_percent</th>\n",
              "      <th>composition_rubber_leather_percent</th>\n",
              "      <th>composition_wood_percent</th>\n",
              "      <th>composition_yard_garden_green_waste_percent</th>\n",
              "      <th>waste_treatment_recycling_percent</th>\n",
              "    </tr>\n",
              "  </thead>\n",
              "  <tbody>\n",
              "    <tr>\n",
              "      <th>0</th>\n",
              "      <td>RW</td>\n",
              "      <td>CAS_14797-65-0</td>\n",
              "      <td>total</td>\n",
              "      <td>water</td>\n",
              "      <td>mg{NO2}/L</td>\n",
              "      <td>2009</td>\n",
              "      <td>2009-01--2009-12</td>\n",
              "      <td>0.063310</td>\n",
              "      <td>FRDR609</td>\n",
              "      <td>France</td>\n",
              "      <td>...</td>\n",
              "      <td>32.0</td>\n",
              "      <td>10.0</td>\n",
              "      <td>3.0</td>\n",
              "      <td>26.0</td>\n",
              "      <td>20.0</td>\n",
              "      <td>9.0</td>\n",
              "      <td>0.0</td>\n",
              "      <td>0.0</td>\n",
              "      <td>0.0</td>\n",
              "      <td>22.26</td>\n",
              "    </tr>\n",
              "    <tr>\n",
              "      <th>1</th>\n",
              "      <td>RW</td>\n",
              "      <td>CAS_14797-65-0</td>\n",
              "      <td>total</td>\n",
              "      <td>water</td>\n",
              "      <td>mg{NO2}/L</td>\n",
              "      <td>2009</td>\n",
              "      <td>2009-01--2009-12</td>\n",
              "      <td>0.046733</td>\n",
              "      <td>FRFR238</td>\n",
              "      <td>France</td>\n",
              "      <td>...</td>\n",
              "      <td>32.0</td>\n",
              "      <td>10.0</td>\n",
              "      <td>3.0</td>\n",
              "      <td>26.0</td>\n",
              "      <td>20.0</td>\n",
              "      <td>9.0</td>\n",
              "      <td>0.0</td>\n",
              "      <td>0.0</td>\n",
              "      <td>0.0</td>\n",
              "      <td>22.26</td>\n",
              "    </tr>\n",
              "    <tr>\n",
              "      <th>2</th>\n",
              "      <td>RW</td>\n",
              "      <td>EEA_3164-07-6</td>\n",
              "      <td>total</td>\n",
              "      <td>water</td>\n",
              "      <td>{massRatio}</td>\n",
              "      <td>2009</td>\n",
              "      <td>2009-01--2009-12</td>\n",
              "      <td>132.859000</td>\n",
              "      <td>FRFR238</td>\n",
              "      <td>France</td>\n",
              "      <td>...</td>\n",
              "      <td>32.0</td>\n",
              "      <td>10.0</td>\n",
              "      <td>3.0</td>\n",
              "      <td>26.0</td>\n",
              "      <td>20.0</td>\n",
              "      <td>9.0</td>\n",
              "      <td>0.0</td>\n",
              "      <td>0.0</td>\n",
              "      <td>0.0</td>\n",
              "      <td>22.26</td>\n",
              "    </tr>\n",
              "    <tr>\n",
              "      <th>3</th>\n",
              "      <td>RW</td>\n",
              "      <td>CAS_14797-55-8</td>\n",
              "      <td>total</td>\n",
              "      <td>water</td>\n",
              "      <td>mg{NO3}/L</td>\n",
              "      <td>2009</td>\n",
              "      <td>2009-01--2009-12</td>\n",
              "      <td>11.578376</td>\n",
              "      <td>FRFR327C</td>\n",
              "      <td>France</td>\n",
              "      <td>...</td>\n",
              "      <td>32.0</td>\n",
              "      <td>10.0</td>\n",
              "      <td>3.0</td>\n",
              "      <td>26.0</td>\n",
              "      <td>20.0</td>\n",
              "      <td>9.0</td>\n",
              "      <td>0.0</td>\n",
              "      <td>0.0</td>\n",
              "      <td>0.0</td>\n",
              "      <td>22.26</td>\n",
              "    </tr>\n",
              "    <tr>\n",
              "      <th>4</th>\n",
              "      <td>RW</td>\n",
              "      <td>EEA_3151-01-7</td>\n",
              "      <td>total</td>\n",
              "      <td>water</td>\n",
              "      <td>mmol/L</td>\n",
              "      <td>2009</td>\n",
              "      <td>2009-01--2009-12</td>\n",
              "      <td>0.206800</td>\n",
              "      <td>ES014MSPFES-014-NR-038-000-02-02</td>\n",
              "      <td>Spain</td>\n",
              "      <td>...</td>\n",
              "      <td>49.0</td>\n",
              "      <td>8.0</td>\n",
              "      <td>3.0</td>\n",
              "      <td>14.0</td>\n",
              "      <td>15.0</td>\n",
              "      <td>9.0</td>\n",
              "      <td>0.0</td>\n",
              "      <td>2.0</td>\n",
              "      <td>0.0</td>\n",
              "      <td>16.84</td>\n",
              "    </tr>\n",
              "  </tbody>\n",
              "</table>\n",
              "<p>5 rows × 29 columns</p>\n",
              "</div>\n",
              "      <button class=\"colab-df-convert\" onclick=\"convertToInteractive('df-e358c5e7-3f94-4636-9997-afd66e729a48')\"\n",
              "              title=\"Convert this dataframe to an interactive table.\"\n",
              "              style=\"display:none;\">\n",
              "        \n",
              "  <svg xmlns=\"http://www.w3.org/2000/svg\" height=\"24px\"viewBox=\"0 0 24 24\"\n",
              "       width=\"24px\">\n",
              "    <path d=\"M0 0h24v24H0V0z\" fill=\"none\"/>\n",
              "    <path d=\"M18.56 5.44l.94 2.06.94-2.06 2.06-.94-2.06-.94-.94-2.06-.94 2.06-2.06.94zm-11 1L8.5 8.5l.94-2.06 2.06-.94-2.06-.94L8.5 2.5l-.94 2.06-2.06.94zm10 10l.94 2.06.94-2.06 2.06-.94-2.06-.94-.94-2.06-.94 2.06-2.06.94z\"/><path d=\"M17.41 7.96l-1.37-1.37c-.4-.4-.92-.59-1.43-.59-.52 0-1.04.2-1.43.59L10.3 9.45l-7.72 7.72c-.78.78-.78 2.05 0 2.83L4 21.41c.39.39.9.59 1.41.59.51 0 1.02-.2 1.41-.59l7.78-7.78 2.81-2.81c.8-.78.8-2.07 0-2.86zM5.41 20L4 18.59l7.72-7.72 1.47 1.35L5.41 20z\"/>\n",
              "  </svg>\n",
              "      </button>\n",
              "      \n",
              "  <style>\n",
              "    .colab-df-container {\n",
              "      display:flex;\n",
              "      flex-wrap:wrap;\n",
              "      gap: 12px;\n",
              "    }\n",
              "\n",
              "    .colab-df-convert {\n",
              "      background-color: #E8F0FE;\n",
              "      border: none;\n",
              "      border-radius: 50%;\n",
              "      cursor: pointer;\n",
              "      display: none;\n",
              "      fill: #1967D2;\n",
              "      height: 32px;\n",
              "      padding: 0 0 0 0;\n",
              "      width: 32px;\n",
              "    }\n",
              "\n",
              "    .colab-df-convert:hover {\n",
              "      background-color: #E2EBFA;\n",
              "      box-shadow: 0px 1px 2px rgba(60, 64, 67, 0.3), 0px 1px 3px 1px rgba(60, 64, 67, 0.15);\n",
              "      fill: #174EA6;\n",
              "    }\n",
              "\n",
              "    [theme=dark] .colab-df-convert {\n",
              "      background-color: #3B4455;\n",
              "      fill: #D2E3FC;\n",
              "    }\n",
              "\n",
              "    [theme=dark] .colab-df-convert:hover {\n",
              "      background-color: #434B5C;\n",
              "      box-shadow: 0px 1px 3px 1px rgba(0, 0, 0, 0.15);\n",
              "      filter: drop-shadow(0px 1px 2px rgba(0, 0, 0, 0.3));\n",
              "      fill: #FFFFFF;\n",
              "    }\n",
              "  </style>\n",
              "\n",
              "      <script>\n",
              "        const buttonEl =\n",
              "          document.querySelector('#df-e358c5e7-3f94-4636-9997-afd66e729a48 button.colab-df-convert');\n",
              "        buttonEl.style.display =\n",
              "          google.colab.kernel.accessAllowed ? 'block' : 'none';\n",
              "\n",
              "        async function convertToInteractive(key) {\n",
              "          const element = document.querySelector('#df-e358c5e7-3f94-4636-9997-afd66e729a48');\n",
              "          const dataTable =\n",
              "            await google.colab.kernel.invokeFunction('convertToInteractive',\n",
              "                                                     [key], {});\n",
              "          if (!dataTable) return;\n",
              "\n",
              "          const docLinkHtml = 'Like what you see? Visit the ' +\n",
              "            '<a target=\"_blank\" href=https://colab.research.google.com/notebooks/data_table.ipynb>data table notebook</a>'\n",
              "            + ' to learn more about interactive tables.';\n",
              "          element.innerHTML = '';\n",
              "          dataTable['output_type'] = 'display_data';\n",
              "          await google.colab.output.renderOutput(dataTable, element);\n",
              "          const docLink = document.createElement('div');\n",
              "          docLink.innerHTML = docLinkHtml;\n",
              "          element.appendChild(docLink);\n",
              "        }\n",
              "      </script>\n",
              "    </div>\n",
              "  </div>\n",
              "  "
            ]
          },
          "metadata": {},
          "execution_count": 65
        }
      ]
    },
    {
      "cell_type": "markdown",
      "source": [
        ""
      ],
      "metadata": {
        "id": "gPc7b4iJ5Fo9"
      }
    },
    {
      "cell_type": "markdown",
      "source": [
        "## **Modelo 1**\n",
        "\n",
        "O algoritmo utilizado no modelo 1 foi KNN."
      ],
      "metadata": {
        "id": "FGwyFHwtoO5m"
      }
    },
    {
      "cell_type": "markdown",
      "source": [
        "### **Modelo 1:** Preparação dos Dados\n"
      ],
      "metadata": {
        "id": "hXaglI6JoaJO"
      }
    },
    {
      "cell_type": "code",
      "source": [
        "from sklearn.preprocessing import LabelEncoder\n",
        "from sklearn.model_selection import train_test_split\n",
        "\n",
        "df.dropna(axis=0,inplace=True)\n",
        "df = df.drop(df[df.resultMeanValue > 2000].index)\n",
        "\n",
        "columns = (\"parameterWaterBodyCategory\",\"observedPropertyDeterminandCode\",\"procedureAnalysedFraction\",\"procedureAnalysedMedia\",\"resultUom\",\"parameterSamplingPeriod\",\"waterBodyIdentifier\",\"Country\")\n",
        "for i in columns:\n",
        "  hot_code = pd.get_dummies(df[i])\n",
        "  df = pd.concat([df,hot_code],axis=1)\n",
        "  df = df.drop(columns=[i])\n",
        "\n",
        "x = df.drop([\"resultMeanValue\"],axis = 1)\n",
        "y = df[\"resultMeanValue\"].values\n",
        "\n",
        "df[\"resultMeanValue\"].plot()\n"
      ],
      "metadata": {
        "id": "-8gSVEHyoeLK",
        "colab": {
          "base_uri": "https://localhost:8080/",
          "height": 282
        },
        "outputId": "af897b67-e78d-442a-9256-7538e49b049d"
      },
      "execution_count": 66,
      "outputs": [
        {
          "output_type": "execute_result",
          "data": {
            "text/plain": [
              "<matplotlib.axes._subplots.AxesSubplot at 0x7f5f2396f2d0>"
            ]
          },
          "metadata": {},
          "execution_count": 66
        },
        {
          "output_type": "display_data",
          "data": {
            "text/plain": [
              "<Figure size 432x288 with 1 Axes>"
            ],
            "image/png": "[encoded data removed]"
          },
          "metadata": {
            "needs_background": "light"
          }
        }
      ]
    },
    {
      "cell_type": "markdown",
      "source": [
        "### **Modelo 1:** Modelo\n"
      ],
      "metadata": {
        "id": "VyE3YKdQotLc"
      }
    },
    {
      "cell_type": "code",
      "source": [
        "x_train, x_test, y_train, y_test = train_test_split(x,y,test_size = 0.4, random_state = 42)\n",
        "\n",
        "def makeClass(y):\n",
        "  i = 0\n",
        "  for x in y:\n",
        "    if(x < 2000 and x >= 1000):\n",
        "      y[i] = 4\n",
        "    elif(x < 1000 and x >= 500):\n",
        "      y[i] = 3\n",
        "    elif(x < 500 and x >= 250):\n",
        "      y[i] = 2\n",
        "    elif(x < 250 and x >= 100):\n",
        "      y[i] = 1\n",
        "    else:\n",
        "      y[i] = 0\n",
        "    i += 1\n",
        "  return y\n",
        "\n",
        "y_train, y_test = makeClass(y_train),makeClass(y_test)"
      ],
      "metadata": {
        "id": "a5YneTsaotLc"
      },
      "execution_count": 67,
      "outputs": []
    },
    {
      "cell_type": "code",
      "source": [
        "from sklearn.preprocessing import MinMaxScaler\n",
        "scaler = MinMaxScaler()\n",
        "x_train = scaler.fit_transform(x_train)\n",
        "x_test = scaler.fit_transform(x_test)"
      ],
      "metadata": {
        "id": "NjclR0UsrKm1"
      },
      "execution_count": 68,
      "outputs": []
    },
    {
      "cell_type": "code",
      "source": [
        "from sklearn.neighbors import KNeighborsClassifier\n",
        "from sklearn import metrics\n",
        "\n",
        "for i in range(1,7):\n",
        "  knn = KNeighborsClassifier(n_neighbors=i)\n",
        "  knn.fit(x_train, y_train)\n",
        "  y_pred = knn.predict(x_test)\n",
        "  print(\"Accuracy of K =\",i, \":\", metrics.accuracy_score(y_test, y_pred))\n"
      ],
      "metadata": {
        "colab": {
          "base_uri": "https://localhost:8080/"
        },
        "id": "I7s8ii5Us10q",
        "outputId": "6e45b55b-490c-4e90-8842-fca35f9d050e"
      },
      "execution_count": 69,
      "outputs": [
        {
          "output_type": "stream",
          "name": "stdout",
          "text": [
            "Accuracy of K = 1 : 0.9218003520241388\n",
            "Accuracy of K = 2 : 0.9363842092029168\n",
            "Accuracy of K = 3 : 0.9283379431732461\n",
            "Accuracy of K = 4 : 0.931229570027659\n",
            "Accuracy of K = 5 : 0.9289665577068141\n",
            "Accuracy of K = 6 : 0.9288408348001006\n"
          ]
        }
      ]
    },
    {
      "cell_type": "markdown",
      "source": [
        "### **Modelo 1:** Resultados\n"
      ],
      "metadata": {
        "id": "SRw3t2NnotVI"
      }
    },
    {
      "cell_type": "markdown",
      "source": [
        "Obteve-se um melhor resultado utilizando K = 2"
      ],
      "metadata": {
        "id": "0SQ5D2SVRtY_"
      }
    },
    {
      "cell_type": "code",
      "source": [
        "import seaborn as sns\n",
        "from sklearn.metrics import confusion_matrix\n",
        "\n",
        "knn = KNeighborsClassifier(n_neighbors=2)\n",
        "knn.fit(x_train, y_train)\n",
        "y_pred = knn.predict(x_test)\n",
        "\n",
        "print(\"Accuracy:\",metrics.accuracy_score(y_test, y_pred))\n",
        "cm = confusion_matrix(y_test, y_pred)\n",
        "\n",
        "sns.heatmap(cm,annot=True)"
      ],
      "metadata": {
        "id": "kvwQvGDOotVI",
        "colab": {
          "base_uri": "https://localhost:8080/",
          "height": 300
        },
        "outputId": "f3778b7e-ab2e-45ba-af30-34baeabce145"
      },
      "execution_count": 70,
      "outputs": [
        {
          "output_type": "stream",
          "name": "stdout",
          "text": [
            "Accuracy: 0.9288408348001006\n"
          ]
        },
        {
          "output_type": "execute_result",
          "data": {
            "text/plain": [
              "<matplotlib.axes._subplots.AxesSubplot at 0x7f5f298ad850>"
            ]
          },
          "metadata": {},
          "execution_count": 70
        },
        {
          "output_type": "display_data",
          "data": {
            "text/plain": [
              "<Figure size 432x288 with 2 Axes>"
            ],
            "image/png": "[encoded data removed]"
          },
          "metadata": {
            "needs_background": "light"
          }
        }
      ]
    },
    {
      "cell_type": "markdown",
      "source": [
        "## **Modelo 2**\n",
        "\n",
        "O algoritmo utilizado no modelo 2 foi o de Árvore de Decisão"
      ],
      "metadata": {
        "id": "n6sOVE9jo_jq"
      }
    },
    {
      "cell_type": "markdown",
      "source": [
        "### **Modelo 2:** Preparação dos Dados\n"
      ],
      "metadata": {
        "id": "lBW3929po_jr"
      }
    },
    {
      "cell_type": "code",
      "source": [
        "df = pd.read_csv(\"/content/waterPollution.csv\")\n",
        "df.head()\n",
        "\n",
        "from sklearn.preprocessing import LabelEncoder\n",
        "from sklearn.model_selection import train_test_split\n",
        "\n",
        "df.dropna(axis=0,inplace=True)\n",
        "df = df.drop(df[df.resultMeanValue > 2000].index)\n",
        "\n",
        "columns = (\"parameterWaterBodyCategory\",\"observedPropertyDeterminandCode\",\"procedureAnalysedFraction\",\"procedureAnalysedMedia\",\"resultUom\",\"parameterSamplingPeriod\",\"waterBodyIdentifier\",\"Country\")\n",
        "for i in columns:\n",
        "  hot_code = pd.get_dummies(df[i])\n",
        "  df = pd.concat([df,hot_code],axis=1)\n",
        "  df = df.drop(columns=[i])\n",
        "\n",
        "x = df.drop([\"resultMeanValue\"],axis = 1)\n",
        "y = df[\"resultMeanValue\"].values\n",
        "\n",
        "df[\"resultMeanValue\"].plot()"
      ],
      "metadata": {
        "id": "VfJUfM16o_jr",
        "colab": {
          "base_uri": "https://localhost:8080/",
          "height": 282
        },
        "outputId": "dc08d62a-16a8-418b-b2ec-a6ff60bd8829"
      },
      "execution_count": 72,
      "outputs": [
        {
          "output_type": "execute_result",
          "data": {
            "text/plain": [
              "<matplotlib.axes._subplots.AxesSubplot at 0x7f5f237f5b10>"
            ]
          },
          "metadata": {},
          "execution_count": 72
        },
        {
          "output_type": "display_data",
          "data": {
            "text/plain": [
              "<Figure size 432x288 with 1 Axes>"
            ],
            "image/png": "[encoded data removed]"
          },
          "metadata": {
            "needs_background": "light"
          }
        }
      ]
    },
    {
      "cell_type": "markdown",
      "source": [
        "### **Modelo 2:** Modelo\n"
      ],
      "metadata": {
        "id": "z60H0esCo_jr"
      }
    },
    {
      "cell_type": "code",
      "source": [
        "x_train, x_test, y_train, y_test = train_test_split(x,y,test_size = 0.4, random_state = 42)\n",
        "\n",
        "def makeClass(y):\n",
        "  i = 0\n",
        "  for x in y:\n",
        "    if(x < 2000 and x >= 1000):\n",
        "      y[i] = 4\n",
        "    elif(x < 1000 and x >= 500):\n",
        "      y[i] = 3\n",
        "    elif(x < 500 and x >= 250):\n",
        "      y[i] = 2\n",
        "    elif(x < 250 and x >= 100):\n",
        "      y[i] = 1\n",
        "    else:\n",
        "      y[i] = 0\n",
        "    i += 1\n",
        "  return y\n",
        "\n",
        "y_train, y_test = makeClass(y_train),makeClass(y_test)\n",
        "\n",
        "from sklearn.preprocessing import MinMaxScaler\n",
        "scaler = MinMaxScaler()\n",
        "x_train = scaler.fit_transform(x_train)\n",
        "x_test = scaler.fit_transform(x_test)\n",
        "\n",
        "from sklearn.tree import DecisionTreeClassifier\n",
        "\n",
        "clf = DecisionTreeClassifier()\n",
        "clf = clf.fit(x_train,y_train)\n",
        "y_pred = clf.predict(x_test)\n",
        "\n",
        "print(\"Accuracy:\",metrics.accuracy_score(y_test, y_pred))\n"
      ],
      "metadata": {
        "id": "GzbajY4fo_jr",
        "colab": {
          "base_uri": "https://localhost:8080/"
        },
        "outputId": "07f800a1-ad20-4cee-82fc-fe7811a3c0d8"
      },
      "execution_count": 73,
      "outputs": [
        {
          "output_type": "stream",
          "name": "stdout",
          "text": [
            "Accuracy: 0.9386472215237617\n"
          ]
        }
      ]
    },
    {
      "cell_type": "markdown",
      "source": [
        "### **Modelo 2:** Resultados\n"
      ],
      "metadata": {
        "id": "f66UTm3So_js"
      }
    },
    {
      "cell_type": "code",
      "source": [
        "print(\"Accuracy:\",metrics.accuracy_score(y_test, y_pred))\n",
        "import seaborn as sns\n",
        "from sklearn.metrics import confusion_matrix\n",
        "\n",
        "cm = confusion_matrix(y_test, y_pred)\n",
        "\n",
        "sns.heatmap(cm,annot=True)"
      ],
      "metadata": {
        "id": "PJGbWBofo_jt",
        "colab": {
          "base_uri": "https://localhost:8080/",
          "height": 300
        },
        "outputId": "ddd69589-bd86-4430-9092-f8f3ddb2b415"
      },
      "execution_count": 74,
      "outputs": [
        {
          "output_type": "stream",
          "name": "stdout",
          "text": [
            "Accuracy: 0.9386472215237617\n"
          ]
        },
        {
          "output_type": "execute_result",
          "data": {
            "text/plain": [
              "<matplotlib.axes._subplots.AxesSubplot at 0x7f5f2376b8d0>"
            ]
          },
          "metadata": {},
          "execution_count": 74
        },
        {
          "output_type": "display_data",
          "data": {
            "text/plain": [
              "<Figure size 432x288 with 2 Axes>"
            ],
            "image/png": "[encoded data removed]"
          },
          "metadata": {
            "needs_background": "light"
          }
        }
      ]
    },
    {
      "cell_type": "markdown",
      "metadata": {
        "id": "9kwoGZeSLRsX"
      },
      "source": [
        "# **Conclusão** \n",
        "\n",
        "*Os dois modelos utilizados se sairam bem e apresentaram resultados de alta acurácia. Porém o modelo 2 teve um índice menor de erros e, portanto, se encaixa melhor para a classificação desse tipo de dado.*\n",
        "\n"
      ]
    },
    {
      "cell_type": "markdown",
      "source": [
        "# **Referências** \n",
        "\n",
        "https://www.kaggle.com/datasets/ozgurdogan646/water-quality-dataset"
      ],
      "metadata": {
        "id": "hc0rg9YSzRz9"
      }
    },
    {
      "cell_type": "markdown",
      "metadata": {
        "id": "8crUBC3IQ3U_"
      },
      "source": [
        "---"
      ]
    },
    {
      "cell_type": "code",
      "metadata": {
        "id": "BluFtfHuCGzm",
        "cellView": "form"
      },
      "source": [
        "#@title Avaliação\n",
        "Completo = 10 #@param {type:\"slider\", min:0, max:10, step:1}\n",
        "#@markdown Projeto cumpre todos os itens pedidos. \n",
        "Relevancia = 9 #@param {type:\"slider\", min:0, max:10, step:1}\n",
        "#@markdown As seleções de dados e eventos para análise são relevantes e justificados. \n",
        "Tecnicas = 6 #@param {type:\"slider\", min:0, max:10, step:1}\n",
        "#@markdown As técnicas de empregadas são adequadas e corretamente aplicadas.\n",
        "Apresentacao = 7 #@param {type:\"slider\", min:0, max:10, step:1}\n",
        "#@markdown A apresentação dos resultados é clara e objetiva.\n",
        "Analise = 8 #@param {type:\"slider\", min:0, max:10, step:1}\n",
        "#@markdown As premissas de análise se justificam e a analise é correta. \n",
        "Conclusao = 7 #@param {type:\"slider\", min:0, max:10, step:1}\n",
        "#@markdown As conclusões são justificadas e relevantes\n",
        "Bonus = 0.5 #@param {type:\"slider\", min:0, max:1, step:0.5}\n",
        "#@markdown A critério do professor por inovações na abordagem e no uso de técnicas de Análise de Dados\n",
        "\n",
        "\n",
        "\n",
        "\n",
        "\n",
        "\n"
      ],
      "execution_count": null,
      "outputs": []
    },
    {
      "cell_type": "code",
      "metadata": {
        "id": "2Gqw7hUZHyle",
        "cellView": "form"
      },
      "source": [
        "#@markdown ### Nota Final\n",
        "nota = Completo + Relevancia + Tecnicas + Apresentacao + Analise + Conclusao \n",
        "\n",
        "nota = nota / 6 + Bonus\n",
        "\n",
        "print(f'Nota final do trabalho {nota :.1f}')\n",
        "\n",
        "import numpy as np\n",
        "import pandas as pd\n",
        "\n",
        "alunos = pd.DataFrame()\n",
        "\n",
        "lista_tia = []\n",
        "lista_nome = []\n",
        "\n",
        "for i in range(1,3):\n",
        "  exec(\"if Aluno\" + str(i) + \" !='None':  lista = Aluno\" + str(i) + \".split(','); lista_tia.append(lista[0]); lista_nome.append(lista[1].upper())\")\n",
        "\n",
        "alunos['tia'] = lista_tia\n",
        "alunos['nome'] = lista_nome\n",
        "alunos['nota'] = np.round(nota,1)\n",
        "print()\n",
        "alunos"
      ],
      "execution_count": null,
      "outputs": []
    }
  ]
}